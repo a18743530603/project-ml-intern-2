{
 "cells": [
  {
   "cell_type": "code",
   "execution_count": null,
   "id": "c0aa5742",
   "metadata": {},
   "outputs": [
    {
     "name": "stdout",
     "output_type": "stream",
     "text": [
      "原始数据\n",
      "   color\n",
      "0    red\n",
      "1  green\n",
      "2   blue\n",
      "3  green\n",
      "4    red\n",
      "编码后的数据\n",
      "   color  color_encoded\n",
      "0    red              2\n",
      "1  green              1\n",
      "2   blue              0\n",
      "3  green              1\n",
      "4    red              2\n",
      "\n",
      "反解回类别： ['red' 'green' 'blue' 'green' 'red']\n"
     ]
    }
   ],
   "source": [
    "#标签编码\n",
    "#Label Encoding\n",
    "#概念：把类别型特征直接映射为数字（整数标签）\n",
    "#一般用于树模型（决策树、随机森林、XGBoost等）\n",
    "import pandas as pd\n",
    "from sklearn.preprocessing import LabelEncoder\n",
    "\n",
    "df=pd.DataFrame({\n",
    "    \"color\": [\"red\", \"green\", \"blue\", \"green\", \"red\"]\n",
    "})\n",
    "print(\"原始数据\")\n",
    "print(df)\n",
    "#1.创建LabelEncoder对象\n",
    "le=LabelEncoder()\n",
    "#2.进行标签编码\n",
    "df[\"color_encoded\"]=le.fit_transform(df[\"color\"])\n",
    "print(\"编码后的数据\")\n",
    "print(df)\n",
    "# 3. 如果想反解回来（从数字到原类别）\n",
    "decoded = le.inverse_transform(df['color_encoded'])\n",
    "print(\"\\n反解回类别：\", decoded)"
   ]
  }
 ],
 "metadata": {
  "kernelspec": {
   "display_name": "base",
   "language": "python",
   "name": "python3"
  },
  "language_info": {
   "codemirror_mode": {
    "name": "ipython",
    "version": 3
   },
   "file_extension": ".py",
   "mimetype": "text/x-python",
   "name": "python",
   "nbconvert_exporter": "python",
   "pygments_lexer": "ipython3",
   "version": "3.13.5"
  }
 },
 "nbformat": 4,
 "nbformat_minor": 5
}
